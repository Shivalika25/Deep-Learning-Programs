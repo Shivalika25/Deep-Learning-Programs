{
 "cells": [
  {
   "cell_type": "code",
   "execution_count": 1,
   "metadata": {
    "colab": {
     "base_uri": "https://localhost:8080/",
     "height": 102
    },
    "colab_type": "code",
    "id": "GhmSHN5n6rN_",
    "outputId": "2c007f56-d1ef-4a3f-d755-ffc5dbd1aa41"
   },
   "outputs": [
    {
     "name": "stdout",
     "output_type": "stream",
     "text": [
      "`%tensorflow_version` only switches the major version: `1.x` or `2.x`.\n",
      "You set: `2.x  # Colab...`. This will be interpreted as: `2.x`.\n",
      "\n",
      "\n",
      "TensorFlow 2.x selected.\n"
     ]
    }
   ],
   "source": [
    "%tensorflow_version 2.x  # Colab..."
   ]
  },
  {
   "cell_type": "markdown",
   "metadata": {
    "colab_type": "text",
    "id": "CygHm3cCkd3b"
   },
   "source": [
    "CIFAR-100"
   ]
  },
  {
   "cell_type": "code",
   "execution_count": 0,
   "metadata": {
    "colab": {},
    "colab_type": "code",
    "id": "M2AcZ9km6rOF"
   },
   "outputs": [],
   "source": [
    "import tensorflow as tf\n",
    "import numpy as np\n",
    "import matplotlib.pyplot as plt\n",
    "# from keras import regularizers\n",
    "from tensorflow.keras import datasets, layers, models, regularizers"
   ]
  },
  {
   "cell_type": "code",
   "execution_count": 3,
   "metadata": {
    "colab": {
     "base_uri": "https://localhost:8080/",
     "height": 317
    },
    "colab_type": "code",
    "id": "LUh5D8B_6rOI",
    "outputId": "ab1647da-1283-47c4-b404-095e852eb3f3"
   },
   "outputs": [
    {
     "name": "stdout",
     "output_type": "stream",
     "text": [
      "Downloading data from https://www.cs.toronto.edu/~kriz/cifar-100-python.tar.gz\n",
      "169009152/169001437 [==============================] - 11s 0us/step\n",
      "[19]\n"
     ]
    },
    {
     "data": {
      "image/png": "[encoded data removed]",
      "text/plain": [
       "<Figure size 432x288 with 1 Axes>"
      ]
     },
     "metadata": {
      "tags": []
     },
     "output_type": "display_data"
    }
   ],
   "source": [
    "# mnist = tf.keras.datasets.mnist\n",
    "cifar = tf.keras.datasets.cifar100\n",
    "(train_images, train_labels), (test_images, test_labels) = cifar.load_data()\n",
    "\n",
    "print(train_labels[0])\n",
    "plt.imshow(train_images[0], cmap=\"Greys_r\")\n",
    "\n",
    "data = tf.data.Dataset.from_tensor_slices(\n",
    "    (train_images.reshape(train_images.shape[0],32,32,3).astype(np.float32) / 255, train_labels.astype(np.int32)))\n",
    "data = data.shuffle(buffer_size=60000).batch(128).repeat()\n",
    "\n",
    "# note: we batch the test data, but do not shuffle/repeat\n",
    "test_data = tf.data.Dataset.from_tensor_slices(\n",
    "    (test_images.reshape(test_images.shape[0],32,32,3).astype(np.float32) / 255, test_labels.astype(np.int32))).batch(128)"
   ]
  },
  {
   "cell_type": "code",
   "execution_count": 0,
   "metadata": {
    "colab": {},
    "colab_type": "code",
    "id": "Zrc1zJtg6rOU"
   },
   "outputs": [],
   "source": [
    "train_steps = 2500\n",
    "\n",
    "n_h = 256\n",
    "#By increasing the number of initial filters, the accuracy of the model increases.previously we were using 16,32,64.so it wasn't\n",
    "# working well as it has 100 classes.\n",
    "\n",
    "\n",
    "layer_list = [layers.Conv2D(128, (3, 3), activation='tanh', input_shape=(32, 32, 3)),\n",
    "              layers.Conv2D(128, (3, 3), activation='tanh'),layers.MaxPool2D(pool_size=(2,2)),\n",
    "              layers.Conv2D(256, (3, 3), activation='softmax'),layers.MaxPool2D(pool_size=(2,2)),layers.Conv2D(256, (3, 3), activation='tanh'),\n",
    "              layers.Flatten(),layers.Dense(100)]\n",
    "model = tf.keras.Sequential(layer_list)\n",
    "\n",
    "#model.build((None, 784))  # optional -- note None for the batch axis!!\n",
    "\n",
    "opt = tf.optimizers.Adam()\n",
    "# from_logits = True!! #neverforget\n",
    "loss_fn = tf.losses.SparseCategoricalCrossentropy(from_logits=True)"
   ]
  },
  {
   "cell_type": "code",
   "execution_count": 6,
   "metadata": {
    "colab": {
     "base_uri": "https://localhost:8080/",
     "height": 459
    },
    "colab_type": "code",
    "id": "v9TU-QJ56rOW",
    "outputId": "c6c38d47-4010-4a80-e1ea-1448886e6ba4"
   },
   "outputs": [
    {
     "name": "stdout",
     "output_type": "stream",
     "text": [
      "Loss: 4.603890419006348 Accuracy: 0.015625\n",
      "Loss: 3.9736382961273193 Accuracy: 0.049140624701976776\n",
      "Loss: 3.634535789489746 Accuracy: 0.11976562440395355\n",
      "Loss: 3.3900833129882812 Accuracy: 0.18390625715255737\n",
      "Loss: 2.8914268016815186 Accuracy: 0.23596298694610596\n",
      "Loss: 2.925199031829834 Accuracy: 0.2819531261920929\n",
      "Loss: 3.068211317062378 Accuracy: 0.30757811665534973\n",
      "Loss: 2.809182643890381 Accuracy: 0.31843748688697815\n",
      "Loss: 2.5968918800354004 Accuracy: 0.345906525850296\n",
      "Loss: 2.201401710510254 Accuracy: 0.39695313572883606\n",
      "Loss: 2.0648529529571533 Accuracy: 0.40312498807907104\n",
      "Loss: 2.3147964477539062 Accuracy: 0.42070311307907104\n",
      "Loss: 1.94989013671875 Accuracy: 0.43632370233535767\n",
      "Loss: 1.8039361238479614 Accuracy: 0.4856249988079071\n",
      "Loss: 1.7829322814941406 Accuracy: 0.4764062464237213\n",
      "Loss: 1.9838743209838867 Accuracy: 0.48148438334465027\n",
      "Loss: 1.4737403392791748 Accuracy: 0.5129391551017761\n",
      "Loss: 1.5618946552276611 Accuracy: 0.5721094012260437\n",
      "Loss: 1.8522320985794067 Accuracy: 0.5520312786102295\n",
      "Loss: 1.8387315273284912 Accuracy: 0.5490624904632568\n",
      "Loss: 1.22200608253479 Accuracy: 0.5992001295089722\n",
      "Loss: 1.4600402116775513 Accuracy: 0.6467968821525574\n",
      "Loss: 1.6304023265838623 Accuracy: 0.6228906512260437\n",
      "Loss: 1.6858195066452026 Accuracy: 0.6177343726158142\n",
      "Loss: 1.0801231861114502 Accuracy: 0.6907151937484741\n",
      "Loss: 1.0557785034179688 Accuracy: 0.7388281226158142\n"
     ]
    }
   ],
   "source": [
    "train_acc_metric = tf.keras.metrics.SparseCategoricalAccuracy()\n",
    "\n",
    "for step, (img_batch, lbl_batch) in enumerate(data):\n",
    "    #print(img_batch.shape)\n",
    "    if step > train_steps:\n",
    "        break\n",
    "\n",
    "    with tf.GradientTape() as tape:\n",
    "        logits = model(img_batch)\n",
    "        # loss format is generally: first argument targets, second argument outputs\n",
    "        xent = loss_fn(lbl_batch, logits)\n",
    "\n",
    "    # if you didn't build the model, it is important that you get the variables\n",
    "    # AFTER the model has been called the first time\n",
    "    varis = model.trainable_variables\n",
    "    grads = tape.gradient(xent, varis)\n",
    "      \n",
    "    opt.apply_gradients(zip(grads, varis))\n",
    "    \n",
    "    train_acc_metric(lbl_batch, logits)\n",
    "    \n",
    "    if not step % 100:\n",
    "        # this is different from before. there, we only evaluated accuracy\n",
    "        # for one batch. Now, we always average over 100 batches\n",
    "        print(\"Loss: {} Accuracy: {}\".format(xent, train_acc_metric.result()))\n",
    "        train_acc_metric.reset_states()\n",
    "    "
   ]
  },
  {
   "cell_type": "code",
   "execution_count": 7,
   "metadata": {
    "colab": {
     "base_uri": "https://localhost:8080/",
     "height": 34
    },
    "colab_type": "code",
    "id": "FxnE-78j6rOY",
    "outputId": "493b13f2-6fac-4c29-8414-b4abb104c104"
   },
   "outputs": [
    {
     "name": "stdout",
     "output_type": "stream",
     "text": [
      "Test acc: 0.41370001435279846\n"
     ]
    }
   ],
   "source": [
    "# this is very convenient -- before, we usually had code that\n",
    "# evaluates the whole test set at once -- this won't work for\n",
    "# large datasets/models. With metrics, we can just iterate\n",
    "# over the data and the metric takes care of averaging etc.\n",
    "\n",
    "test_acc_metric = tf.keras.metrics.SparseCategoricalAccuracy()\n",
    "for img_batch, lbl_batch in test_data:\n",
    "    test_acc_metric(lbl_batch, model(img_batch))\n",
    "print(\"Test acc: {}\".format(test_acc_metric.result()))"
   ]
  },
  {
   "cell_type": "markdown",
   "metadata": {
    "colab_type": "text",
    "id": "edQiQDYSj8WY"
   },
   "source": [
    "CIFAR-10\n",
    "Above architecture suits better the CIFAR-10 datasets"
   ]
  },
  {
   "cell_type": "code",
   "execution_count": 10,
   "metadata": {
    "colab": {
     "base_uri": "https://localhost:8080/",
     "height": 317
    },
    "colab_type": "code",
    "id": "Fb-xeDeX6rOb",
    "outputId": "381da964-75d0-4311-96e4-3f4b60864686"
   },
   "outputs": [
    {
     "name": "stdout",
     "output_type": "stream",
     "text": [
      "Downloading data from https://www.cs.toronto.edu/~kriz/cifar-10-python.tar.gz\n",
      "170500096/170498071 [==============================] - 130s 1us/step\n",
      "[6]\n"
     ]
    },
    {
     "data": {
      "image/png": "[encoded data removed]",
      "text/plain": [
       "<Figure size 432x288 with 1 Axes>"
      ]
     },
     "metadata": {
      "tags": []
     },
     "output_type": "display_data"
    }
   ],
   "source": [
    "import tensorflow as tf\n",
    "import numpy as np\n",
    "import matplotlib.pyplot as plt\n",
    "# from keras import regularizers\n",
    "from tensorflow.keras import datasets, layers, models, regularizers\n",
    "\n",
    "# mnist = tf.keras.datasets.mnist\n",
    "cifar10 = tf.keras.datasets.cifar10\n",
    "(train_images, train_labels), (test_images, test_labels) = cifar10.load_data()\n",
    "\n",
    "print(train_labels[0])\n",
    "plt.imshow(train_images[0], cmap=\"Greys_r\")\n",
    "\n",
    "data = tf.data.Dataset.from_tensor_slices(\n",
    "    (train_images.reshape(train_images.shape[0],32,32,3).astype(np.float32) / 255, train_labels.astype(np.int32)))\n",
    "data = data.shuffle(buffer_size=60000).batch(128).repeat()\n",
    "\n",
    "# note: we batch the test data, but do not shuffle/repeat\n",
    "test_data = tf.data.Dataset.from_tensor_slices(\n",
    "    (test_images.reshape(test_images.shape[0],32,32,3).astype(np.float32) / 255, test_labels.astype(np.int32))).batch(128)\n",
    "\n",
    "train_steps = 2500\n",
    "\n",
    "n_h = 256\n",
    "#By increasing the number of initial filters, the accuracy of the model increases.previously we were using 16,32,64.so it wasn't\n",
    "# working well as it has 100 classes.\n",
    "\n",
    "\n",
    "layer_list = [layers.Conv2D(128, (3, 3), activation='tanh', input_shape=(32, 32, 3)),\n",
    "              layers.Conv2D(128, (3, 3), activation='tanh'),layers.MaxPool2D(pool_size=(2,2)),\n",
    "              layers.Conv2D(256, (3, 3), activation='softmax'),layers.MaxPool2D(pool_size=(2,2)),layers.Conv2D(256, (3, 3), activation='tanh'),\n",
    "              layers.Flatten(),layers.Dense(10)]\n",
    "model = tf.keras.Sequential(layer_list)\n",
    "\n",
    "#model.build((None, 784))  # optional -- note None for the batch axis!!\n",
    "\n",
    "opt = tf.optimizers.Adam()\n",
    "# from_logits = True!! #neverforget\n",
    "loss_fn = tf.losses.SparseCategoricalCrossentropy(from_logits=True)"
   ]
  },
  {
   "cell_type": "code",
   "execution_count": 15,
   "metadata": {
    "colab": {
     "base_uri": "https://localhost:8080/",
     "height": 901
    },
    "colab_type": "code",
    "id": "JLnd43_AjDSB",
    "outputId": "cc506b38-bd25-408c-a928-873e38929468"
   },
   "outputs": [
    {
     "name": "stdout",
     "output_type": "stream",
     "text": [
      "Loss: 0.347211629152298 Accuracy: 0.8984375\n",
      "Seen so far: 64 samples\n",
      "Loss: 0.4170062839984894 Accuracy: 0.8757030963897705\n",
      "Seen so far: 6464 samples\n",
      "Loss: 0.3926665484905243 Accuracy: 0.8570312261581421\n",
      "Seen so far: 12864 samples\n",
      "Loss: 0.5470508337020874 Accuracy: 0.8528906106948853\n",
      "Seen so far: 19264 samples\n",
      "Loss: 0.27061280608177185 Accuracy: 0.8404955863952637\n",
      "Seen so far: 25664 samples\n",
      "Loss: 0.31687691807746887 Accuracy: 0.9056249856948853\n",
      "Seen so far: 32064 samples\n",
      "Loss: 0.28986796736717224 Accuracy: 0.8824999928474426\n",
      "Seen so far: 38464 samples\n",
      "Loss: 0.42424070835113525 Accuracy: 0.8760156035423279\n",
      "Seen so far: 44864 samples\n",
      "Loss: 0.2051643431186676 Accuracy: 0.8774309754371643\n",
      "Seen so far: 51264 samples\n",
      "Loss: 0.20159560441970825 Accuracy: 0.9272656440734863\n",
      "Seen so far: 57664 samples\n",
      "Loss: 0.2820422649383545 Accuracy: 0.9185937643051147\n",
      "Seen so far: 64064 samples\n",
      "Loss: 0.2785566449165344 Accuracy: 0.900390625\n",
      "Seen so far: 70464 samples\n",
      "Loss: 0.12065964937210083 Accuracy: 0.9067597389221191\n",
      "Seen so far: 76864 samples\n",
      "Loss: 0.2029947191476822 Accuracy: 0.948046863079071\n",
      "Seen so far: 83264 samples\n",
      "Loss: 0.15045049786567688 Accuracy: 0.9404687285423279\n",
      "Seen so far: 89664 samples\n",
      "Loss: 0.22014552354812622 Accuracy: 0.919921875\n",
      "Seen so far: 96064 samples\n",
      "Loss: 0.13139435648918152 Accuracy: 0.9241687655448914\n",
      "Seen so far: 102464 samples\n",
      "Loss: 0.08719047904014587 Accuracy: 0.9561718702316284\n",
      "Seen so far: 108864 samples\n",
      "Loss: 0.07804454863071442 Accuracy: 0.955859363079071\n",
      "Seen so far: 115264 samples\n",
      "Loss: 0.13537129759788513 Accuracy: 0.9408593773841858\n",
      "Seen so far: 121664 samples\n",
      "Loss: 0.08449479937553406 Accuracy: 0.9462045431137085\n",
      "Seen so far: 128064 samples\n",
      "Loss: 0.06291277706623077 Accuracy: 0.9677343964576721\n",
      "Seen so far: 134464 samples\n",
      "Loss: 0.06450435519218445 Accuracy: 0.9624999761581421\n",
      "Seen so far: 140864 samples\n",
      "Loss: 0.14663910865783691 Accuracy: 0.946484386920929\n",
      "Seen so far: 147264 samples\n",
      "Loss: 0.09311893582344055 Accuracy: 0.9535759091377258\n",
      "Seen so far: 153664 samples\n",
      "Loss: 0.07748758792877197 Accuracy: 0.9719531536102295\n",
      "Seen so far: 160064 samples\n"
     ]
    }
   ],
   "source": [
    "train_acc_metric = tf.keras.metrics.SparseCategoricalAccuracy()\n",
    "\n",
    "for step, (img_batch, lbl_batch) in enumerate(data):\n",
    "    #print(img_batch.shape)\n",
    "    if step > train_steps:\n",
    "        break\n",
    "\n",
    "    with tf.GradientTape() as tape:\n",
    "        logits = model(img_batch)\n",
    "        # loss format is generally: first argument targets, second argument outputs\n",
    "        xent = loss_fn(lbl_batch, logits)\n",
    "\n",
    "    # if you didn't build the model, it is important that you get the variables\n",
    "    # AFTER the model has been called the first time\n",
    "    varis = model.trainable_variables\n",
    "    grads = tape.gradient(xent, varis)\n",
    "      \n",
    "    opt.apply_gradients(zip(grads, varis))\n",
    "    \n",
    "    train_acc_metric(lbl_batch, logits)\n",
    "    \n",
    "    if not step % 100:\n",
    "        # this is different from before. there, we only evaluated accuracy\n",
    "        # for one batch. Now, we always average over 100 batches\n",
    "        print(\"Loss: {} Accuracy: {}\".format(xent, train_acc_metric.result()))\n",
    "        print('Seen so far: %s samples' % ((step + 1) * 64))\n",
    "        train_acc_metric.reset_states()\n",
    "    "
   ]
  },
  {
   "cell_type": "code",
   "execution_count": 16,
   "metadata": {
    "colab": {
     "base_uri": "https://localhost:8080/",
     "height": 34
    },
    "colab_type": "code",
    "id": "f8HyKZkcjFUG",
    "outputId": "5b067e52-1052-41fb-e39e-6301157c3ec7"
   },
   "outputs": [
    {
     "name": "stdout",
     "output_type": "stream",
     "text": [
      "Test acc: 0.7161999940872192\n"
     ]
    }
   ],
   "source": [
    "\n",
    "test_acc_metric = tf.keras.metrics.SparseCategoricalAccuracy()\n",
    "for img_batch, lbl_batch in test_data:\n",
    "    test_acc_metric(lbl_batch, model(img_batch))\n",
    "print(\"Test acc: {}\".format(test_acc_metric.result()))"
   ]
  },
  {
   "cell_type": "code",
   "execution_count": 0,
   "metadata": {
    "colab": {},
    "colab_type": "code",
    "id": "GKpibtAAkqth"
   },
   "outputs": [],
   "source": []
  }
 ],
 "metadata": {
  "accelerator": "GPU",
  "colab": {
   "name": "CNN_Ass3.ipynb",
   "provenance": []
  },
  "kernelspec": {
   "display_name": "Python 3",
   "language": "python",
   "name": "python3"
  },
  "language_info": {
   "codemirror_mode": {
    "name": "ipython",
    "version": 3
   },
   "file_extension": ".py",
   "mimetype": "text/x-python",
   "name": "python",
   "nbconvert_exporter": "python",
   "pygments_lexer": "ipython3",
   "version": "3.7.3"
  }
 },
 "nbformat": 4,
 "nbformat_minor": 1
}
